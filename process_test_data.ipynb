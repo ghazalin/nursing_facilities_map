{
 "cells": [
  {
   "cell_type": "code",
   "execution_count": 2,
   "id": "143be59c-b201-4176-ac5c-e0dba6180a1c",
   "metadata": {},
   "outputs": [],
   "source": [
    "import pandas as pd \n",
    "import geopandas as gpd\n",
    "from shapely.geometry import Point\n",
    "import numpy as np"
   ]
  },
  {
   "cell_type": "code",
   "execution_count": 4,
   "id": "930eac25-f0c6-4a88-9686-178a7e28d458",
   "metadata": {
    "scrolled": true
   },
   "outputs": [],
   "source": [
    "# import provider information dataframe, limit to Chicago providers, and drop unnecessary columns. \n",
    "provider_info = pd.read_csv('/Users/ghazalin/NH_inspections_static/data/NH_ProviderInfo_Sep2024.csv')\n",
    "chicago_NHs = provider_info.loc[(provider_info['City/Town']=='CHICAGO') & (provider_info['State']=='IL')]\n",
    "keep_cols = ['CMS Certification Number (CCN)', 'Provider Name', 'Provider Address', 'ZIP Code', 'Overall Rating','Total Number of Penalties', 'Latitude', 'Longitude']\n",
    "chicago_NHs = chicago_NHs[keep_cols]\n",
    "chicago_NHs.columns = ['CCN', 'Provider', 'Address', 'ZIP', 'Rating','Penalties', 'Latitude', 'Longitude']\n",
    "\n",
    "# add indicator columns for star counts \n",
    "chicago_NHs['one_star'] = np.where(chicago_NHs['Rating']==1.0, 'true', 'false')\n",
    "chicago_NHs['two_star'] = np.where(chicago_NHs['Rating']==2.0, 'true', 'false')\n",
    "chicago_NHs['three_star'] = np.where(chicago_NHs['Rating']==3.0, 'true', 'false')\n",
    "chicago_NHs['four_star'] = np.where(chicago_NHs['Rating']==4.0, 'true', 'false')\n",
    "chicago_NHs['five_star'] = np.where(chicago_NHs['Rating']==5.0, 'true', 'false')\n"
   ]
  },
  {
   "cell_type": "code",
   "execution_count": 5,
   "id": "423e3b64-9a76-431a-b6cf-ed58fe9787e2",
   "metadata": {},
   "outputs": [
    {
     "name": "stdout",
     "output_type": "stream",
     "text": [
      "41\n",
      "15\n",
      "9\n",
      "6\n",
      "7\n"
     ]
    }
   ],
   "source": [
    "# split dataframe by star rating \n",
    "chicago_one_star_NHs = chicago_NHs.loc[chicago_NHs['one_star']=='true']\n",
    "print(chicago_one_star_NHs.shape[0])\n",
    "\n",
    "chicago_two_star_NHs = chicago_NHs.loc[chicago_NHs['two_star']=='true']\n",
    "print(chicago_two_star_NHs.shape[0])\n",
    "\n",
    "chicago_three_star_NHs = chicago_NHs.loc[chicago_NHs['three_star']=='true']\n",
    "print(chicago_three_star_NHs.shape[0])\n",
    "\n",
    "chicago_four_star_NHs = chicago_NHs.loc[chicago_NHs['four_star']=='true']\n",
    "print(chicago_four_star_NHs.shape[0])\n",
    "\n",
    "chicago_five_star_NHs = chicago_NHs.loc[chicago_NHs['five_star']=='true']\n",
    "print(chicago_five_star_NHs.shape[0])\n"
   ]
  },
  {
   "cell_type": "code",
   "execution_count": 6,
   "id": "629097f1-3912-491e-83dd-03a163983a81",
   "metadata": {},
   "outputs": [
    {
     "name": "stderr",
     "output_type": "stream",
     "text": [
      "/Users/ghazalin/nursing_facilities_map/.venv/lib/python3.12/site-packages/pyogrio/geopandas.py:662: UserWarning: 'crs' was not provided.  The output dataset will not have projection information defined and may not be usable in other systems.\n",
      "  write(\n",
      "/Users/ghazalin/nursing_facilities_map/.venv/lib/python3.12/site-packages/pyogrio/geopandas.py:662: UserWarning: 'crs' was not provided.  The output dataset will not have projection information defined and may not be usable in other systems.\n",
      "  write(\n",
      "/Users/ghazalin/nursing_facilities_map/.venv/lib/python3.12/site-packages/pyogrio/geopandas.py:662: UserWarning: 'crs' was not provided.  The output dataset will not have projection information defined and may not be usable in other systems.\n",
      "  write(\n",
      "/Users/ghazalin/nursing_facilities_map/.venv/lib/python3.12/site-packages/pyogrio/geopandas.py:662: UserWarning: 'crs' was not provided.  The output dataset will not have projection information defined and may not be usable in other systems.\n",
      "  write(\n",
      "/Users/ghazalin/nursing_facilities_map/.venv/lib/python3.12/site-packages/pyogrio/geopandas.py:662: UserWarning: 'crs' was not provided.  The output dataset will not have projection information defined and may not be usable in other systems.\n",
      "  write(\n",
      "/Users/ghazalin/nursing_facilities_map/.venv/lib/python3.12/site-packages/pyogrio/geopandas.py:662: UserWarning: 'crs' was not provided.  The output dataset will not have projection information defined and may not be usable in other systems.\n",
      "  write(\n"
     ]
    }
   ],
   "source": [
    "\n",
    "\n",
    "# convert pandas dataframe to geoJSON file \n",
    "geometry = [Point(longitude, latitude) for longitude, latitude in zip(chicago_NHs['Longitude'], chicago_NHs['Latitude'])] \n",
    "geo_chicago_NHs = gpd.GeoDataFrame(chicago_NHs, geometry=geometry)\n",
    "geo_chicago_NHs.to_file(\"/Users/ghazalin/nursing_facilities_map/all_facilities.geojson\", driver='GeoJSON')\n",
    "\n",
    "\n",
    "# convert pandas dataframe to geoJSON file \n",
    "geometry = [Point(longitude, latitude) for longitude, latitude in zip(chicago_one_star_NHs['Longitude'], chicago_one_star_NHs['Latitude'])] \n",
    "geo_chicago_one_star_NHs = gpd.GeoDataFrame(chicago_one_star_NHs, geometry=geometry)\n",
    "geo_chicago_one_star_NHs.to_file(\"/Users/ghazalin/nursing_facilities_map/one_star_facilities.geojson\", driver='GeoJSON')\n",
    "\n",
    "\n",
    "# convert pandas dataframe to geoJSON file \n",
    "geometry = [Point(longitude, latitude) for longitude, latitude in zip(chicago_two_star_NHs['Longitude'], chicago_two_star_NHs['Latitude'])] \n",
    "geo_two_star_chicago_NHs = gpd.GeoDataFrame(chicago_two_star_NHs, geometry=geometry)\n",
    "geo_two_star_chicago_NHs.to_file(\"/Users/ghazalin/nursing_facilities_map/two_star_facilities.geojson\", driver='GeoJSON')\n",
    "\n",
    "# convert pandas dataframe to geoJSON file \n",
    "geometry = [Point(longitude, latitude) for longitude, latitude in zip(chicago_three_star_NHs['Longitude'], chicago_three_star_NHs['Latitude'])] \n",
    "geo_chicago_three_star_NHs = gpd.GeoDataFrame(chicago_three_star_NHs, geometry=geometry)\n",
    "geo_chicago_three_star_NHs.to_file(\"/Users/ghazalin/nursing_facilities_map/three_star_facilities.geojson\", driver='GeoJSON')\n",
    "\n",
    "# convert pandas dataframe to geoJSON file \n",
    "geometry = [Point(longitude, latitude) for longitude, latitude in zip(chicago_four_star_NHs['Longitude'], chicago_four_star_NHs['Latitude'])] \n",
    "geo_chicago_four_star_NHs = gpd.GeoDataFrame(chicago_four_star_NHs, geometry=geometry)\n",
    "geo_chicago_four_star_NHs.to_file(\"/Users/ghazalin/nursing_facilities_map/four_star_facilities.geojson\", driver='GeoJSON')\n",
    "\n",
    "# convert pandas dataframe to geoJSON file \n",
    "geometry = [Point(longitude, latitude) for longitude, latitude in zip(chicago_five_star_NHs['Longitude'], chicago_five_star_NHs['Latitude'])] \n",
    "geo_five_star_chicago_NHs = gpd.GeoDataFrame(chicago_five_star_NHs, geometry=geometry)\n",
    "geo_five_star_chicago_NHs.to_file(\"/Users/ghazalin/nursing_facilities_map/five_star_facilities.geojson\", driver='GeoJSON')\n",
    "\n",
    "\n",
    "\n"
   ]
  },
  {
   "cell_type": "code",
   "execution_count": null,
   "id": "7ce87958-8f9f-4e6c-80e7-f76465f9c222",
   "metadata": {},
   "outputs": [],
   "source": []
  }
 ],
 "metadata": {
  "kernelspec": {
   "display_name": "Python 3 (ipykernel)",
   "language": "python",
   "name": "python3"
  },
  "language_info": {
   "codemirror_mode": {
    "name": "ipython",
    "version": 3
   },
   "file_extension": ".py",
   "mimetype": "text/x-python",
   "name": "python",
   "nbconvert_exporter": "python",
   "pygments_lexer": "ipython3",
   "version": "3.12.7"
  }
 },
 "nbformat": 4,
 "nbformat_minor": 5
}
